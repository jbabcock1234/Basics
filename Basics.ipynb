{
  "cells": [
    {
      "metadata": {
        "trusted": true
      },
      "cell_type": "code",
      "source": "print(\" \")\n\nfor x in range (5, 37, 2): print(x)",
      "execution_count": 59,
      "outputs": [
        {
          "output_type": "stream",
          "text": " \n5\n7\n9\n11\n13\n15\n17\n19\n21\n23\n25\n27\n29\n31\n33\n35\n",
          "name": "stdout"
        }
      ]
    },
    {
      "metadata": {
        "trusted": true
      },
      "cell_type": "code",
      "source": "for c in range(0,6):\n    f = 9/5*c + 32\n\n    print(f)",
      "execution_count": 60,
      "outputs": [
        {
          "output_type": "stream",
          "text": "32.0\n33.8\n35.6\n37.4\n39.2\n41.0\n",
          "name": "stdout"
        }
      ]
    },
    {
      "metadata": {
        "trusted": true
      },
      "cell_type": "code",
      "source": "a = input(\"Enter a word\")\n\nprint(ord(\"a\"))\n\nprint(hex(ord(\"a\")))\n\nprint(bin(ord(\"a\")))",
      "execution_count": 61,
      "outputs": [
        {
          "output_type": "stream",
          "name": "stdout",
          "text": "Enter a wordabc\n97\n0x61\n0b1100001\n"
        }
      ]
    },
    {
      "metadata": {
        "trusted": true
      },
      "cell_type": "code",
      "source": "from ipywidgets import interact\n\n@interact\ndef led(x = 10):\n    if x % 2 == 0:\n        print(\"ON\")\n        \n    else: \n        print(\"OFF\")\n\n",
      "execution_count": 62,
      "outputs": [
        {
          "output_type": "display_data",
          "data": {
            "application/vnd.jupyter.widget-view+json": {
              "model_id": "04b8b46c52af479ea3a8d2f17b04bc33",
              "version_minor": 0,
              "version_major": 2
            },
            "text/plain": "interactive(children=(IntSlider(value=10, description='x', max=30, min=-10), Output()), _dom_classes=('widget-…"
          },
          "metadata": {}
        }
      ]
    },
    {
      "metadata": {
        "trusted": true
      },
      "cell_type": "code",
      "source": "from ipywidgets import interact\n\n@interact(i=\"5\", r=\"5\")\ndef circuit(i, r):\n    I = int(i)\n    R = int(r)\n    \n    print(\"Voltage equals\", I*R)\n",
      "execution_count": 63,
      "outputs": [
        {
          "output_type": "display_data",
          "data": {
            "application/vnd.jupyter.widget-view+json": {
              "model_id": "b7ef355241084a4d9658c3bd08d63889",
              "version_minor": 0,
              "version_major": 2
            },
            "text/plain": "interactive(children=(Text(value='5', description='i'), Text(value='5', description='r'), Output()), _dom_clas…"
          },
          "metadata": {}
        }
      ]
    },
    {
      "metadata": {
        "trusted": true
      },
      "cell_type": "code",
      "source": "from ipywidgets import interact\n\n@interact(i=\"5\", v=\"5\")\ndef circuit(i, v):\n    I = int(i)\n    V = int(v)\n    \n    print(\"Power equals\", I*V)\n",
      "execution_count": 64,
      "outputs": [
        {
          "output_type": "display_data",
          "data": {
            "application/vnd.jupyter.widget-view+json": {
              "model_id": "c41f6d18591d48709c95ee0db8ce2d11",
              "version_minor": 0,
              "version_major": 2
            },
            "text/plain": "interactive(children=(Text(value='5', description='i'), Text(value='5', description='v'), Output()), _dom_clas…"
          },
          "metadata": {}
        }
      ]
    },
    {
      "metadata": {
        "trusted": true
      },
      "cell_type": "code",
      "source": "from ipywidgets import interact \n\nimport math\n\nfrom math import pi\n\n@interact\ndef h(x = 10):\n    if x is 0:\n        print(\"0\")\n        \n    else:\n        print(pi*(4/3)*x**2)\n",
      "execution_count": 65,
      "outputs": [
        {
          "output_type": "display_data",
          "data": {
            "application/vnd.jupyter.widget-view+json": {
              "model_id": "963d1f6c8e274291abcea7fc88f0dc03",
              "version_minor": 0,
              "version_major": 2
            },
            "text/plain": "interactive(children=(IntSlider(value=10, description='x', max=30, min=-10), Output()), _dom_classes=('widget-…"
          },
          "metadata": {}
        }
      ]
    },
    {
      "metadata": {
        "trusted": true
      },
      "cell_type": "code",
      "source": "from ipywidgets import interact\n\na = input(\"Weight in kgs\")\nb = (float(a)*2.2)/14\nprint(b)",
      "execution_count": 66,
      "outputs": [
        {
          "output_type": "stream",
          "name": "stdout",
          "text": "Weight in kgs9\n1.4142857142857144\n"
        }
      ]
    },
    {
      "metadata": {
        "trusted": true
      },
      "cell_type": "code",
      "source": "amount=int(input(\"Please enter amount in cents\"))\ncoins = [50, 25, 10, 5, 2, 1]\ncoinsReturned = []\nfor i in coins:\n  if amount >=i:\n        coinsReturned.append(i)\n        amount = amount - i\nprint(coinsReturned)",
      "execution_count": 58,
      "outputs": [
        {
          "output_type": "stream",
          "name": "stdout",
          "text": "Please enter amount in cents69\n[50, 10, 5, 2, 1]\n"
        }
      ]
    },
    {
      "metadata": {
        "trusted": true
      },
      "cell_type": "code",
      "source": "",
      "execution_count": null,
      "outputs": []
    }
  ],
  "metadata": {
    "kernelspec": {
      "name": "python36",
      "display_name": "Python 3.6",
      "language": "python"
    },
    "language_info": {
      "mimetype": "text/x-python",
      "nbconvert_exporter": "python",
      "name": "python",
      "pygments_lexer": "ipython3",
      "version": "3.6.6",
      "file_extension": ".py",
      "codemirror_mode": {
        "version": 3,
        "name": "ipython"
      }
    }
  },
  "nbformat": 4,
  "nbformat_minor": 2
}